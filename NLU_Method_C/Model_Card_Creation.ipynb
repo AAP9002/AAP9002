{
  "nbformat": 4,
  "nbformat_minor": 0,
  "metadata": {
    "colab": {
      "provenance": [],
      "include_colab_link": true
    },
    "kernelspec": {
      "name": "python3",
      "display_name": "Python 3"
    },
    "language_info": {
      "name": "python"
    }
  },
  "cells": [
    {
      "cell_type": "markdown",
      "metadata": {
        "id": "view-in-github",
        "colab_type": "text"
      },
      "source": [
        "<a href=\"https://colab.research.google.com/github/AAP9002/AAP9002/blob/main/NLU_Method_C/Model_Card_Creation.ipynb\" target=\"_parent\"><img src=\"https://colab.research.google.com/assets/colab-badge.svg\" alt=\"Open In Colab\"/></a>"
      ]
    },
    {
      "cell_type": "markdown",
      "source": [
        "The model card template makes use of Jinja, hence we need to install the necessary package."
      ],
      "metadata": {
        "id": "3y5__yaUKyb1"
      }
    },
    {
      "cell_type": "code",
      "source": [
        "!pip install Jinja2"
      ],
      "metadata": {
        "colab": {
          "base_uri": "https://localhost:8080/"
        },
        "id": "kjSmXdzczFoh",
        "outputId": "27891584-dbd5-4970-fcd4-a49e682827fc"
      },
      "execution_count": null,
      "outputs": [
        {
          "output_type": "stream",
          "name": "stdout",
          "text": [
            "Requirement already satisfied: Jinja2 in /usr/local/lib/python3.11/dist-packages (3.1.5)\n",
            "Requirement already satisfied: MarkupSafe>=2.0 in /usr/local/lib/python3.11/dist-packages (from Jinja2) (3.0.2)\n"
          ]
        }
      ]
    },
    {
      "cell_type": "markdown",
      "source": [
        "Required import statement"
      ],
      "metadata": {
        "id": "Puto8-5ILO2s"
      }
    },
    {
      "cell_type": "code",
      "execution_count": null,
      "metadata": {
        "id": "inUOAq0Yy_O5"
      },
      "outputs": [],
      "source": [
        "from huggingface_hub import ModelCard, ModelCardData"
      ]
    },
    {
      "cell_type": "markdown",
      "source": [
        "Before running the cell below, upload the model card template (`COMP34812_modelcard_template.md`) provided to you using the Colab file browser (on the left-hand side)."
      ],
      "metadata": {
        "id": "TX5nkStaLTRC"
      }
    },
    {
      "cell_type": "code",
      "source": [
        "card_data = ModelCardData(\n",
        "    language='en',\n",
        "    license='cc-by-4.0',\n",
        "    tags=['text-classification'],\n",
        "    # change the line below to specify the URL to your Github/Gitlab repo\n",
        "    repo=\"https://github.com/AAP9002/COMP34812-NLU-NLI\",\n",
        "    ignore_metadata_errors=True)\n",
        "\n",
        "card = ModelCard.from_template(\n",
        "    card_data = card_data,\n",
        "    template_path='COMP34812_modelcard_template.md',\n",
        "    # change the following line to indicate your respective usernames\n",
        "    # and the abbreviation of the relevant track name, e.g., NLI, ED, AV\n",
        "    model_id = 'z72819ap-e91802zc-NLI',\n",
        "    base_model_repo = 'https://huggingface.co/FacebookAI/roberta-base',\n",
        "    base_model_paper = 'https://arxiv.org/abs/1907.11692',\n",
        "    base_model = 'roberta-base',\n",
        "    model_architecture = 'Transformers',\n",
        "    model_type = 'Supervised',\n",
        "    language = 'English',\n",
        "    model_summary = '''This is a classification model that was trained to detect whether a premise and hypothesis entail each other or not, using binary classification.''',\n",
        "    model_description = '''This model is based upon a RoBERTa model that was fine-tuned on 24.4K pairs of texts.''',\n",
        "    developers = 'Alan Prophett and Zac Curtis',\n",
        "    testing_data = 'A subset of the development set provided, amounting to 6K+ pairs.',\n",
        "    hyperparameters = '''\n",
        "    All Models and datasets\n",
        "      - seed: 42\n",
        "\n",
        "    Roberta Large NLI Binary Classification Model\n",
        "      - learning_rate: 2e-05\n",
        "      - train_batch_size: 16\n",
        "      - eval_batch_size: 16\n",
        "      - num_epochs: 5\n",
        "\n",
        "    Semantic Textual Similarity Binary Classification Model\n",
        "      - learning_rate: 2e-05\n",
        "      - train_batch_size: 16\n",
        "      - eval_batch_size: 16\n",
        "      - num_epochs: 5\n",
        "\n",
        "    Ensamble Meta Model\n",
        "      - learning_rate: 2e-05\n",
        "      - train_batch_size: 128\n",
        "      - eval_batch_size: 16\n",
        "      - num_epochs: 3\n",
        "      '''\n",
        "      ,\n",
        "    testing_metrics = '''\n",
        "      - Precision\n",
        "      - Recall\n",
        "      - F1-score\n",
        "      - Accuracy''',\n",
        "    results = 'The Ensamble Model obtained an F1-score of 91% and an accuracy of 91%.',\n",
        "\n",
        "\n",
        "\n",
        "\n",
        "    training_data = '24.4K pairs of texts drawn from emails, news articles and blog posts.',\n",
        "    speeds_sizes_times = '''\n",
        "      - overall training time: 5 hours\n",
        "\n",
        "    Roberta Large NLI Binary Classification Model\n",
        "      - duration per training epoch: 30 minutes\n",
        "      - model size: 1.42 GB\n",
        "\n",
        "    Semantic Textual Similarity Binary Classification Model\n",
        "      - duration per training epoch: 30 minutes\n",
        "      - model size: 501 MB\n",
        "\n",
        "    Ensamble Meta Model\n",
        "      - duration per training epoch: 30 minutes\n",
        "      - model size: 1.92 GB''',\n",
        "\n",
        "    hardware_requirements = '''\n",
        "      - RAM: at least 16 GB\n",
        "      - Storage: at least 2GB,\n",
        "      - GPU: a100 40GB''',\n",
        "\n",
        "    software = '''\n",
        "      - Transformers 4.18.0\n",
        "      - Pytorch 1.11.0+cu113''',\n",
        "    bias_risks_limitations = '''Any inputs (concatenation of two sequences) longer than\n",
        "      512 subwords will be truncated by the model.''',\n",
        "    additional_information = '''The hyperparameters were determined by experimentation\n",
        "      with different values.'''\n",
        ")\n",
        "\n",
        "# the following lines will write a markdown (.md) file; this becomes one of your model cards\n",
        "# change the filename accordingly\n",
        "with open('my_model_card.md', 'w') as model_card:\n",
        "  model_card.write(card.content)"
      ],
      "metadata": {
        "id": "pg4o6fuPbl5X",
        "outputId": "2a50a3a5-c07e-4777-bf8c-3e555af6518c",
        "colab": {
          "base_uri": "https://localhost:8080/"
        }
      },
      "execution_count": null,
      "outputs": [
        {
          "output_type": "stream",
          "name": "stderr",
          "text": [
            "Repo card metadata block was not found. Setting CardData to empty.\n",
            "WARNING:huggingface_hub.repocard:Repo card metadata block was not found. Setting CardData to empty.\n"
          ]
        }
      ]
    }
  ]
}